{
  "nbformat": 4,
  "nbformat_minor": 0,
  "metadata": {
    "accelerator": "GPU",
    "colab": {
      "name": "Style_Transfer.ipynb",
      "provenance": [],
      "collapsed_sections": [],
      "toc_visible": true
    },
    "kernelspec": {
      "display_name": "Python 3",
      "name": "python3"
    }
  },
  "cells": [
    {
      "cell_type": "code",
      "metadata": {
        "id": "NyftRTSMuwue"
      },
      "source": [
        "import os\n",
        "import tensorflow as tf\n",
        "# Load compressed models from tensorflow_hub\n",
        "os.environ['TFHUB_MODEL_LOAD_FORMAT'] = 'COMPRESSED'"
      ],
      "execution_count": 78,
      "outputs": []
    },
    {
      "cell_type": "code",
      "metadata": {
        "id": "sc1OLbOWhPCO"
      },
      "source": [
        "import IPython.display as display\n",
        "\n",
        "import matplotlib.pyplot as plt\n",
        "import matplotlib as mpl\n",
        "mpl.rcParams['figure.figsize'] = (12,12)\n",
        "mpl.rcParams['axes.grid'] = False\n",
        "\n",
        "import numpy as np\n",
        "import cv2\n",
        "import PIL.Image\n",
        "import time\n",
        "import os\n",
        "import functools"
      ],
      "execution_count": 79,
      "outputs": []
    },
    {
      "cell_type": "code",
      "metadata": {
        "id": "GM6VEGrGLh62"
      },
      "source": [
        "def tensor_to_image(tensor):\n",
        "    tensor = tensor*255\n",
        "    tensor = np.array(tensor, dtype=np.uint8)\n",
        "    if np.ndim(tensor)>3:\n",
        "        assert tensor.shape[0] == 1\n",
        "        tensor = tensor[0]\n",
        "    return PIL.Image.fromarray(tensor)"
      ],
      "execution_count": 80,
      "outputs": []
    },
    {
      "cell_type": "code",
      "metadata": {
        "colab": {
          "base_uri": "https://localhost:8080/"
        },
        "id": "0hGXyQkTJR1b",
        "outputId": "65c3ab08-2dc7-4215-daf4-a4adb76864d8"
      },
      "source": [
        "from google.colab import drive\n",
        "drive.mount('/content/gdrive')"
      ],
      "execution_count": 81,
      "outputs": [
        {
          "output_type": "stream",
          "text": [
            "Drive already mounted at /content/gdrive; to attempt to forcibly remount, call drive.mount(\"/content/gdrive\", force_remount=True).\n"
          ],
          "name": "stdout"
        }
      ]
    },
    {
      "cell_type": "code",
      "metadata": {
        "id": "hjXTwGIRJ0l5"
      },
      "source": [
        "target_path = '/content/gdrive/MyDrive/Colab Notebooks/Projects/images/targets/'\n",
        "input_path = '/content/gdrive/MyDrive/Colab Notebooks/Projects/images/inputs/'"
      ],
      "execution_count": 82,
      "outputs": []
    },
    {
      "cell_type": "code",
      "metadata": {
        "colab": {
          "base_uri": "https://localhost:8080/"
        },
        "id": "K1flHq5FKJB5",
        "outputId": "ba6d7d91-88ef-471c-ec3a-fe37bbbd7f32"
      },
      "source": [
        "target_imgs = os.listdir(target_path)\n",
        "input_imgs = os.listdir(input_path)\n",
        "\n",
        "print(f\"Total target images: {len(target_imgs)}\")\n",
        "print(f\"Total input images: {len(input_imgs)}\")"
      ],
      "execution_count": 83,
      "outputs": [
        {
          "output_type": "stream",
          "text": [
            "Total target images: 7\n",
            "Total input images: 1\n"
          ],
          "name": "stdout"
        }
      ]
    },
    {
      "cell_type": "markdown",
      "metadata": {
        "id": "xE4Yt8nArTeR"
      },
      "source": [
        "## Visualize the input"
      ]
    },
    {
      "cell_type": "markdown",
      "metadata": {
        "id": "klh6ObK2t_vH"
      },
      "source": [
        "Define a function to load an image and limit its maximum dimension to 512 pixels."
      ]
    },
    {
      "cell_type": "code",
      "metadata": {
        "id": "3TLljcwv5qZs"
      },
      "source": [
        "def load_img(path_to_img):\n",
        "    max_dim = 512\n",
        "    img = tf.io.read_file(path_to_img)\n",
        "    img = tf.image.decode_image(img, channels=3)\n",
        "    img = tf.image.convert_image_dtype(img, tf.float32)\n",
        "\n",
        "    shape = tf.cast(tf.shape(img)[:-1], tf.float32)\n",
        "    long_dim = max(shape)\n",
        "    scale = max_dim / long_dim\n",
        "\n",
        "    new_shape = tf.cast(shape * scale, tf.int32)\n",
        "\n",
        "    img = tf.image.resize(img, new_shape)\n",
        "    img = img[tf.newaxis, :]\n",
        "    return img"
      ],
      "execution_count": 84,
      "outputs": []
    },
    {
      "cell_type": "markdown",
      "metadata": {
        "id": "2yAlRzJZrWM3"
      },
      "source": [
        "Create a simple function to display an image:"
      ]
    },
    {
      "cell_type": "code",
      "metadata": {
        "id": "cBX-eNT8PAK_"
      },
      "source": [
        "def imshow(image, title=None):\n",
        "    if len(image.shape) > 3:\n",
        "        image = tf.squeeze(image, axis=0)\n",
        "\n",
        "    plt.imshow(image)\n",
        "    if title:\n",
        "        plt.title(title)"
      ],
      "execution_count": 85,
      "outputs": []
    },
    {
      "cell_type": "code",
      "metadata": {
        "id": "Yh_AV6220ebD"
      },
      "source": [
        "vgg = tf.keras.applications.VGG19(include_top=False, weights='imagenet')\n",
        "content_layers = ['block5_conv2']\n",
        "\n",
        "style_layers = ['block1_conv1',\n",
        "                'block2_conv1',\n",
        "                'block3_conv1', \n",
        "                'block4_conv1', \n",
        "                'block5_conv1']\n",
        "\n",
        "num_content_layers = len(content_layers)\n",
        "num_style_layers = len(style_layers)"
      ],
      "execution_count": 86,
      "outputs": []
    },
    {
      "cell_type": "code",
      "metadata": {
        "id": "nfec6MuMAbPx"
      },
      "source": [
        "def vgg_layers(layer_names):\n",
        "    \"\"\" Creates a vgg model that returns a list of intermediate output values.\"\"\"\n",
        "    # Load our model. Load pretrained VGG, trained on imagenet data\n",
        "    vgg = tf.keras.applications.VGG19(include_top=False, weights='imagenet')\n",
        "    vgg.trainable = False\n",
        "    \n",
        "    outputs = [vgg.get_layer(name).output for name in layer_names]\n",
        "\n",
        "    model = tf.keras.Model([vgg.input], outputs)\n",
        "    return model"
      ],
      "execution_count": 87,
      "outputs": []
    },
    {
      "cell_type": "code",
      "metadata": {
        "id": "HAy1iGPdoEpZ"
      },
      "source": [
        "def gram_matrix(input_tensor):\n",
        "    result = tf.linalg.einsum('bijc,bijd->bcd', input_tensor, input_tensor)\n",
        "    input_shape = tf.shape(input_tensor)\n",
        "    num_locations = tf.cast(input_shape[1]*input_shape[2], tf.float32)\n",
        "    return result/(num_locations)"
      ],
      "execution_count": 88,
      "outputs": []
    },
    {
      "cell_type": "code",
      "metadata": {
        "id": "Sr6QALY-I1ja"
      },
      "source": [
        "class StyleContentModel(tf.keras.models.Model):\n",
        "    def __init__(self, style_layers, content_layers):\n",
        "        super(StyleContentModel, self).__init__()\n",
        "        self.vgg =  vgg_layers(style_layers + content_layers)\n",
        "        self.style_layers = style_layers\n",
        "        self.content_layers = content_layers\n",
        "        self.num_style_layers = len(style_layers)\n",
        "        self.vgg.trainable = False\n",
        "\n",
        "    def call(self, inputs):\n",
        "        \"Expects float input in [0,1]\"\n",
        "        inputs = inputs*255.0\n",
        "        preprocessed_input = tf.keras.applications.vgg19.preprocess_input(inputs)\n",
        "        outputs = self.vgg(preprocessed_input)\n",
        "        style_outputs, content_outputs = (outputs[:self.num_style_layers], \n",
        "                                        outputs[self.num_style_layers:])\n",
        "\n",
        "        style_outputs = [gram_matrix(style_output)\n",
        "                        for style_output in style_outputs]\n",
        "\n",
        "        content_dict = {content_name:value \n",
        "                        for content_name, value \n",
        "                        in zip(self.content_layers, content_outputs)}\n",
        "\n",
        "        style_dict = {style_name:value\n",
        "                    for style_name, value\n",
        "                    in zip(self.style_layers, style_outputs)}\n",
        "        \n",
        "        return {'content':content_dict, 'style':style_dict}"
      ],
      "execution_count": 89,
      "outputs": []
    },
    {
      "cell_type": "code",
      "metadata": {
        "id": "kdgpTJwL_vE2"
      },
      "source": [
        "def clip_0_1(image):\n",
        "    return tf.clip_by_value(image, clip_value_min=0.0, clip_value_max=1.0)"
      ],
      "execution_count": 90,
      "outputs": []
    },
    {
      "cell_type": "code",
      "metadata": {
        "id": "0ggx2Na8oROH"
      },
      "source": [
        "def style_content_loss(outputs):\n",
        "        style_outputs = outputs['style']\n",
        "        content_outputs = outputs['content']\n",
        "        style_loss = tf.add_n([tf.reduce_mean((style_outputs[name]-style_targets[name])**2) \n",
        "                            for name in style_outputs.keys()])\n",
        "        style_loss *= style_weight / num_style_layers\n",
        "\n",
        "        content_loss = tf.add_n([tf.reduce_mean((content_outputs[name]-content_targets[name])**2) \n",
        "                                for name in content_outputs.keys()])\n",
        "        content_loss *= content_weight / num_content_layers\n",
        "        loss = style_loss + content_loss\n",
        "        return loss"
      ],
      "execution_count": 91,
      "outputs": []
    },
    {
      "cell_type": "code",
      "metadata": {
        "id": "7szUUybCQMB3"
      },
      "source": [
        "def high_pass_x_y(image):\n",
        "    x_var = image[:,:,1:,:] - image[:,:,:-1,:]\n",
        "    y_var = image[:,1:,:,:] - image[:,:-1,:,:]\n",
        "\n",
        "    return x_var, y_var"
      ],
      "execution_count": 92,
      "outputs": []
    },
    {
      "cell_type": "code",
      "metadata": {
        "id": "mP-92lXMIYPn"
      },
      "source": [
        "def total_variation_loss(image):\n",
        "    x_deltas, y_deltas = high_pass_x_y(image)\n",
        "    return tf.reduce_sum(tf.abs(x_deltas)) + tf.reduce_sum(tf.abs(y_deltas))"
      ],
      "execution_count": 93,
      "outputs": []
    },
    {
      "cell_type": "code",
      "metadata": {
        "id": "r4XZjqUk_5Eu"
      },
      "source": [
        "style_extractor = vgg_layers(style_layers)\n",
        "opt = tf.optimizers.Adam(learning_rate=0.02, beta_1=0.99, epsilon=1e-1)\n",
        "style_weight=1e-2\n",
        "content_weight=1e4\n",
        "total_variation_weight=30\n",
        "output_path = \"/content/gdrive/MyDrive/Colab Notebooks/Projects/images/outputs\""
      ],
      "execution_count": 94,
      "outputs": []
    },
    {
      "cell_type": "code",
      "metadata": {
        "id": "3FkfqXCbLgbZ",
        "colab": {
          "base_uri": "https://localhost:8080/"
        },
        "outputId": "04f7b2c6-4ab7-457a-b84e-df2060665946"
      },
      "source": [
        "for target_img in target_imgs:\n",
        "    @tf.function()\n",
        "    def train_step(image):\n",
        "        with tf.GradientTape() as tape:\n",
        "            outputs = extractor(image)\n",
        "            loss = style_content_loss(outputs)\n",
        "            loss += total_variation_weight*tf.image.total_variation(image)\n",
        "\n",
        "        grad = tape.gradient(loss, image)\n",
        "        opt.apply_gradients([(grad, image)])\n",
        "        image.assign(clip_0_1(image))\n",
        "\n",
        "    target_name = target_img[:target_img.index('.')]\n",
        "    style_img = load_img(f\"{target_path}{target_img}\")\n",
        "    for input_img in input_imgs:\n",
        "        # Show the image that will be proccessed\n",
        "        content_img = load_img(f\"{input_path}{input_img}\")\n",
        "\n",
        "        # Extract whats needed\n",
        "        style_outputs = style_extractor(style_img*255)\n",
        "        extractor = StyleContentModel(style_layers, content_layers)\n",
        "\n",
        "        # Running gradient descent\n",
        "        style_targets = extractor(style_img)['style']\n",
        "        content_targets = extractor(content_img)['content']\n",
        "\n",
        "        image = tf.Variable(content_img)\n",
        "        start = time.time()\n",
        "\n",
        "        epochs = 10\n",
        "        steps_per_epoch = 300\n",
        "\n",
        "        step = 0\n",
        "        content_name = input_img[:input_img.index('.')]\n",
        "        # !mkdir \"{output_path}/process/{content_name}/\"\n",
        "        count = 1\n",
        "        process_imgs = []\n",
        "        for n in range(epochs):\n",
        "            print(\"=\"*15, target_name, \"=\"*15)\n",
        "            print(\"\\t\",\"=\"*10, content_name, \"=\"*10)\n",
        "            for m in range(steps_per_epoch):\n",
        "                step += 1\n",
        "                train_step(image)\n",
        "                print(\".\", end='')\n",
        "                ep_result = tensor_to_image(image)\n",
        "                # ep_result.save(f\"{output_path}/process/{content_name}_{target_name}/{count}.png\")\n",
        "                process_imgs.append(ep_result)\n",
        "                count += 1\n",
        "            display.clear_output(wait=True)\n",
        "            print(\"\\t\\tTrain step: {}\".format(step))\n",
        "        print(\"\\t\\t Saving file...\")\n",
        "        process_imgs[0].save(fp=f\"{output_path}/process/{content_name}_{target_name}.gif\", save_all=True, format='GIF', duration=1, loop=0, append_images=process_imgs[1:])\n",
        "        end = time.time()\n",
        "        print(\"\\t\\tTotal time: {:.1f}\".format(end-start))\n",
        "        # Save the image to the google drive\n",
        "        style_result = tensor_to_image(image)\n",
        "        style_result.save(f\"{output_path}/stylized/{content_name}_{target_name}.png\")"
      ],
      "execution_count": 95,
      "outputs": [
        {
          "output_type": "stream",
          "text": [
            "\t\tTrain step: 3000\n",
            "\t\t Saving file...\n",
            "\t\tTotal time: 298.6\n"
          ],
          "name": "stdout"
        }
      ]
    }
  ]
}